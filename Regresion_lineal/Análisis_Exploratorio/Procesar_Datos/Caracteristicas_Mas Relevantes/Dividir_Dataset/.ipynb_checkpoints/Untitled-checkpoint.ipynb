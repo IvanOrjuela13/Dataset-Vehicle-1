{
 "cells": [
  {
   "cell_type": "markdown",
   "id": "b6bfd882-6b56-4f68-9df0-aee4deb32f22",
   "metadata": {},
   "source": [
    "**Dividir el dataset en Train y Test para evaluar correctamente el modelo.**"
   ]
  },
  {
   "cell_type": "code",
   "execution_count": 2,
   "id": "9b14b6cd-9032-472c-8a3c-3cfaf7325216",
   "metadata": {},
   "outputs": [
    {
     "name": "stdout",
     "output_type": "stream",
     "text": [
      "Mean Squared Error: 3.4788039706378995\n",
      "R^2 Score: 0.8489813024899067\n",
      "Características seleccionadas: Index(['Present_Price', 'Fuel_Type_Diesel', 'Fuel_Type_Petrol',\n",
      "       'Seller_Type_Dealer', 'Seller_Type_Individual'],\n",
      "      dtype='object')\n",
      "Forma de X_train: (240, 11)\n",
      "Forma de X_test: (61, 11)\n",
      "Forma de y_train: (240,)\n",
      "Forma de y_test: (61,)\n"
     ]
    }
   ],
   "source": [
    "import numpy as np\n",
    "import pandas as pd\n",
    "import matplotlib.pyplot as plt\n",
    "import seaborn as sns\n",
    "from sklearn.model_selection import train_test_split\n",
    "from sklearn.linear_model import LinearRegression\n",
    "from sklearn.metrics import mean_squared_error, r2_score\n",
    "from sklearn.feature_selection import SelectKBest, f_regression\n",
    "from sklearn.preprocessing import StandardScaler\n",
    "\n",
    "# Cargar los datos\n",
    "data = pd.read_csv('car data.csv')\n",
    "\n",
    "# Identificar y manejar los valores faltantes\n",
    "data_cleaned = data.dropna()\n",
    "\n",
    "# Codificar las variables categóricas\n",
    "data_encoded = pd.get_dummies(data_cleaned, columns=['Fuel_Type', 'Seller_Type', 'Transmission'])\n",
    "\n",
    "# Eliminar la columna 'Car_Name'\n",
    "data_encoded.drop('Car_Name', axis=1, inplace=True)\n",
    "\n",
    "# Escalar las características numéricas\n",
    "scaler = StandardScaler()\n",
    "numeric_features = ['Year', 'Present_Price', 'Kms_Driven', 'Owner']\n",
    "data_encoded[numeric_features] = scaler.fit_transform(data_encoded[numeric_features])\n",
    "\n",
    "# Dividir los datos en características (X) y etiquetas (y)\n",
    "X = data_encoded.drop('Selling_Price', axis=1)\n",
    "y = data_encoded['Selling_Price']\n",
    "\n",
    "# Dividir los datos en conjuntos de entrenamiento y prueba\n",
    "X_train, X_test, y_train, y_test = train_test_split(X, y, test_size=0.2, random_state=42)\n",
    "\n",
    "# Crear y entrenar el modelo de regresión lineal\n",
    "model = LinearRegression()\n",
    "model.fit(X_train, y_train)\n",
    "\n",
    "# Hacer predicciones\n",
    "y_pred = model.predict(X_test)\n",
    "\n",
    "# Evaluar el modelo\n",
    "mse = mean_squared_error(y_test, y_pred)\n",
    "r2 = r2_score(y_test, y_pred)\n",
    "\n",
    "print('Mean Squared Error:', mse)\n",
    "print('R^2 Score:', r2)\n",
    "\n",
    "# Seleccionar las mejores características utilizando la prueba F de ANOVA\n",
    "selector = SelectKBest(score_func=f_regression, k=5)  # Seleccionar las 5 mejores características\n",
    "X_selected = selector.fit_transform(X, y)\n",
    "\n",
    "# Obtener los índices de las características seleccionadas\n",
    "selected_indices = selector.get_support(indices=True)\n",
    "\n",
    "# Obtener los nombres de las características seleccionadas\n",
    "selected_features = X.columns[selected_indices]\n",
    "\n",
    "# Mostrar las características seleccionadas\n",
    "print(\"Características seleccionadas:\", selected_features)\n",
    "\n",
    "# Dividir los datos en características (X) y etiquetas (y)\n",
    "X = data_encoded.drop('Selling_Price', axis=1)\n",
    "y = data_encoded['Selling_Price']\n",
    "\n",
    "# Dividir los datos en conjuntos de entrenamiento y prueba (80% entrenamiento, 20% prueba)\n",
    "X_train, X_test, y_train, y_test = train_test_split(X, y, test_size=0.2, random_state=42)\n",
    "\n",
    "# Mostrar la forma de los conjuntos de entrenamiento y prueba\n",
    "print(\"Forma de X_train:\", X_train.shape)\n",
    "print(\"Forma de X_test:\", X_test.shape)\n",
    "print(\"Forma de y_train:\", y_train.shape)\n",
    "print(\"Forma de y_test:\", y_test.shape)"
   ]
  },
  {
   "cell_type": "code",
   "execution_count": null,
   "id": "6e875bc4-3e28-4181-ada5-43f1415ed702",
   "metadata": {},
   "outputs": [],
   "source": []
  }
 ],
 "metadata": {
  "kernelspec": {
   "display_name": "Python 3 (ipykernel)",
   "language": "python",
   "name": "python3"
  },
  "language_info": {
   "codemirror_mode": {
    "name": "ipython",
    "version": 3
   },
   "file_extension": ".py",
   "mimetype": "text/x-python",
   "name": "python",
   "nbconvert_exporter": "python",
   "pygments_lexer": "ipython3",
   "version": "3.11.7"
  }
 },
 "nbformat": 4,
 "nbformat_minor": 5
}
